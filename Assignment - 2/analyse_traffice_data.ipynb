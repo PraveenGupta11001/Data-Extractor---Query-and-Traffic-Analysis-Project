{
 "cells": [
  {
   "cell_type": "code",
   "execution_count": 1,
   "metadata": {},
   "outputs": [],
   "source": [
    "import pandas as pd\n",
    "import numpy as np\n",
    "import matplotlib.pyplot as plt\n",
    "import seaborn as sns\n",
    "import scipy\n",
    "pd.set_option('display.max_rows', None)"
   ]
  },
  {
   "cell_type": "code",
   "execution_count": 2,
   "metadata": {},
   "outputs": [],
   "source": [
    "# Load Web traffic dataset\n",
    "dataset = pd.read_csv('csv/traffic.csv')\n",
    "df = dataset.copy()"
   ]
  },
  {
   "cell_type": "code",
   "execution_count": null,
   "metadata": {},
   "outputs": [],
   "source": [
    "df.head(3)"
   ]
  },
  {
   "cell_type": "code",
   "execution_count": null,
   "metadata": {},
   "outputs": [],
   "source": [
    "df.shape"
   ]
  },
  {
   "cell_type": "code",
   "execution_count": 5,
   "metadata": {},
   "outputs": [],
   "source": [
    "df['date'] = pd.to_datetime(df['date'])"
   ]
  },
  {
   "cell_type": "code",
   "execution_count": null,
   "metadata": {},
   "outputs": [],
   "source": [
    "df['event'].value_counts()"
   ]
  },
  {
   "cell_type": "code",
   "execution_count": null,
   "metadata": {},
   "outputs": [],
   "source": [
    "df.info()"
   ]
  },
  {
   "cell_type": "code",
   "execution_count": null,
   "metadata": {},
   "outputs": [],
   "source": []
  },
  {
   "cell_type": "code",
   "execution_count": null,
   "metadata": {},
   "outputs": [],
   "source": []
  },
  {
   "cell_type": "code",
   "execution_count": null,
   "metadata": {},
   "outputs": [],
   "source": []
  },
  {
   "cell_type": "markdown",
   "metadata": {},
   "source": [
    "1. Total and Daily Pageview Events:"
   ]
  },
  {
   "cell_type": "code",
   "execution_count": null,
   "metadata": {},
   "outputs": [],
   "source": [
    "df['event'].value_counts()"
   ]
  },
  {
   "cell_type": "code",
   "execution_count": null,
   "metadata": {},
   "outputs": [],
   "source": [
    "df['linkid'].nunique()"
   ]
  },
  {
   "cell_type": "markdown",
   "metadata": {},
   "source": [
    "- How many total pageview events did the links in the dataset receive during the entire period?"
   ]
  },
  {
   "cell_type": "code",
   "execution_count": null,
   "metadata": {},
   "outputs": [],
   "source": [
    "total_pageview_count = df[df['event'] == 'pageview']['event'].count()\n",
    "print(f\"The total pageview events the links in the dataset received is '{total_pageview_count}'\")"
   ]
  },
  {
   "cell_type": "code",
   "execution_count": null,
   "metadata": {},
   "outputs": [],
   "source": []
  },
  {
   "cell_type": "markdown",
   "metadata": {},
   "source": [
    "- What is the average number of pageview events per day?"
   ]
  },
  {
   "cell_type": "code",
   "execution_count": null,
   "metadata": {},
   "outputs": [],
   "source": [
    "avg_pageview_day = df[df['event'] == 'pageview'].groupby('date').count()['event']\n",
    "print(f\"The average pageview per day is '{avg_pageview_day.mean():.2f}'\")"
   ]
  },
  {
   "cell_type": "markdown",
   "metadata": {},
   "source": [
    "2. Analysis of Other Events:\n",
    "- What is the total count and distribution of other recorded events in the dataset?"
   ]
  },
  {
   "cell_type": "code",
   "execution_count": null,
   "metadata": {},
   "outputs": [],
   "source": [
    "event_distribution = df['event'].value_counts()\n",
    "print(f\"Event Distribution:\\n{event_distribution}\")"
   ]
  },
  {
   "cell_type": "markdown",
   "metadata": {},
   "source": [
    "3. Geographical Distribution:\n",
    "- Which countries contributed to the pageviews?"
   ]
  },
  {
   "cell_type": "code",
   "execution_count": null,
   "metadata": {},
   "outputs": [],
   "source": [
    "contrib_countries = df[df['event'] == 'pageview']['country'].unique()\n",
    "print(f\"There are {len(contrib_countries)} countries that contributed in the pageviews are: \")\n",
    "for i in contrib_countries:\n",
    "    print(i)"
   ]
  },
  {
   "cell_type": "code",
   "execution_count": null,
   "metadata": {},
   "outputs": [],
   "source": []
  },
  {
   "cell_type": "markdown",
   "metadata": {},
   "source": [
    "4. Click-Through Rate (CTR) Analysis:\n",
    "- What is the overall click-through rate (CTR) calculated as clicks/pageviews?"
   ]
  },
  {
   "cell_type": "code",
   "execution_count": null,
   "metadata": {},
   "outputs": [],
   "source": [
    "# so we have to find the overall CTR for clicks and pageview both, so apply filter for both and then calculate the rate\n",
    "total_clicks = df[df['event'] == 'click'].shape[0]\n",
    "overall_ctr = total_clicks / total_pageview_count\n",
    "print(f\"Overall Click-Through Rate (CTR): {overall_ctr:.4f}\")"
   ]
  },
  {
   "cell_type": "markdown",
   "metadata": {},
   "source": [
    "- How does the CTR vary across different links?"
   ]
  },
  {
   "cell_type": "code",
   "execution_count": null,
   "metadata": {},
   "outputs": [],
   "source": [
    "# Calculate total pageviews and clicks per link\n",
    "link_pageviews = df[df['event'] == 'pageview'].groupby('linkid').size()\n",
    "link_clicks = df[df['event'] == 'click'].groupby('linkid').size()\n",
    "\n",
    "# Calculate CTR per link and handling potential divide-by-zero with null values\n",
    "ctr_per_link = (link_clicks / link_pageviews).fillna(0)\n",
    "print(f\"CTR Variation Across Different Links:\\n{ctr_per_link.round(2)}\")"
   ]
  },
  {
   "cell_type": "markdown",
   "metadata": {},
   "source": [
    "5. Correlation Analysis:\n",
    "- Is there a correlation between clicks and previews on a link? If so, is it statistically\n",
    "significant, and how strong is the effect?"
   ]
  },
  {
   "cell_type": "code",
   "execution_count": null,
   "metadata": {},
   "outputs": [],
   "source": [
    "# Merge data for correlation analysis\n",
    "link_data = pd.DataFrame({'pageviews': link_pageviews, 'clicks': link_clicks}).fillna(0)\n",
    "\n",
    "# Correlation between clicks and pageviews\n",
    "correlation = link_data['clicks'].corr(link_data['pageviews'])\n",
    "print(f\"Correlation between Clicks and Pageviews: {correlation:.4f}\")"
   ]
  },
  {
   "cell_type": "markdown",
   "metadata": {},
   "source": [
    "- Perform tests for both potential linear relationships and categorical (binary)\n",
    "relationships between these variables"
   ]
  },
  {
   "cell_type": "code",
   "execution_count": null,
   "metadata": {},
   "outputs": [],
   "source": [
    "from scipy.stats import pearsonr\n",
    "\n",
    "# Perform Pearson correlation test\n",
    "pearson_corr, p_value = pearsonr(link_data['clicks'], link_data['pageviews'])\n",
    "print(f\"Pearson Correlation: {pearson_corr:.4f}, P-value: {p_value:.4f}\")"
   ]
  },
  {
   "cell_type": "markdown",
   "metadata": {},
   "source": [
    "### `Result`:  \n",
    "- The Pearson's correlation coefficients show that pearson show the strong positive relationship between clicks and pageviews.\n",
    "- While P-value which is lower than 0.05 i.e., 0.00 show highly meaning there is strong evidence against the null hypothesis, suggesting a genuine linear relationship between the variables.\n",
    "- Which means the higher the chances of pageview if the link is clicked, well that obvious."
   ]
  }
 ],
 "metadata": {
  "kernelspec": {
   "display_name": "Python 3",
   "language": "python",
   "name": "python3"
  },
  "language_info": {
   "codemirror_mode": {
    "name": "ipython",
    "version": 3
   },
   "file_extension": ".py",
   "mimetype": "text/x-python",
   "name": "python",
   "nbconvert_exporter": "python",
   "pygments_lexer": "ipython3",
   "version": "3.10.11"
  }
 },
 "nbformat": 4,
 "nbformat_minor": 2
}
